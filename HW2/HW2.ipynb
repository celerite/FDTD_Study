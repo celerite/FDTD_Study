{
 "cells": [
  {
   "cell_type": "markdown",
   "id": "f268d2a3",
   "metadata": {},
   "source": [
    "# **3-D FDTD (PEC Boundary)**"
   ]
  },
  {
   "cell_type": "markdown",
   "id": "ba640ca0",
   "metadata": {},
   "source": [
    "### *Code*"
   ]
  },
  {
   "cell_type": "code",
   "execution_count": null,
   "id": "b0dae402",
   "metadata": {},
   "outputs": [
    {
     "name": "stdout",
     "output_type": "stream",
     "text": [
      "-----------\n",
      "Initializing structure...\n",
      "time for choose_chunkdivision = 1.50204e-05 s\n",
      "Working in 3D dimensions.\n",
      "Computational cell is 30 x 40 x 10 with resolution 1\n",
      "     block, center = (0,0,0)\n",
      "          size (30,40,10)\n",
      "          axes (1,0,0), (0,1,0), (0,0,1)\n",
      "          dielectric constant epsilon diagonal = (-1e+20,-1e+20,-1e+20)\n",
      "time for set_epsilon = 0.078882 s\n",
      "-----------\n",
      "run 0 finished at t = 0.5 (1 timesteps)\n",
      "Ez:\n",
      "[0j, 0j]\n"
     ]
    }
   ],
   "source": [
    "import meep as mp\n",
    "import numpy as np\n",
    "import matplotlib.pyplot as plt\n",
    "\n",
    "# Constants\n",
    "c = 3e+8                                                # speed of light (m/s)\n",
    "\n",
    "# FDTD Variables\n",
    "dx, dy, dz = 1e-3, 1e-3, 1e-3                           # spatial step (m)\n",
    "C = 0.99                                                # Courant factor\n",
    "dt = C / (c * np.sqrt((1/dx)**2+(1/dy)**2+(1/dz)**2))   # time step (s)\n",
    "sx, sy, sz = 30, 40, 10                                 # simulation cell size\n",
    "\n",
    "# Gaussian Source Coefficients\n",
    "E_0 = 1\n",
    "n_T = 3                                     # time delay\n",
    "bw = 15e+9                                  # bandwidth (Hz)\n",
    "T = np.sqrt(2 * np.log(2)) / (np.pi * bw)   # (s)\n",
    "\n",
    "# Create Simulation\n",
    "cell = mp.Vector3(sx,sy,sz)\n",
    "\n",
    "geometry = [mp.Block(cell,\n",
    "                     center=mp.Vector3(),\n",
    "                     material=mp.perfect_electric_conductor)]\n",
    "\n",
    "sources = [mp.Source(mp.GaussianSource(frequency=bw, fwidth=1/T, start_time=n_T*T),   # pulse = E_0 * np.exp(-(((n * dt - n_T * T) / T))**2)\n",
    "                     component=mp.Ez,\n",
    "                     center=mp.Vector3(-cell.x/2 + 3*dx, -cell.y/2 + 3*dy, -cell.z/2 + 3*dz))]\n",
    "\n",
    "resolution = 10   # ??\n",
    "\n",
    "sim = mp.Simulation(cell_size=cell, \n",
    "                    geometry=geometry, \n",
    "                    sources=sources, \n",
    "                    resolution=resolution)\n",
    "\n",
    "# Observation\n",
    "pos = mp.Vector3(-cell.x/2 + 12*dx, -cell.y/2 + 3*dy, -cell.z/2 + 10*dz)\n",
    "ez_data = []\n",
    "def ez_probe(sim):\n",
    "    ez_data.append(sim.get_field_point(mp.Ez, pos))\n",
    "\n",
    "# Run Simulation for 8192 time steps & Save Ez at every time step from the observation position\n",
    "sim.run(mp.at_every(dt, ez_probe), until=8192*dt)\n",
    "\n",
    "print(\"Ez:\")\n",
    "print(ez_data)\n",
    "\n",
    "# Calculate the resonance frequencies using DFT (range: 5 - 30 GHz)\n",
    "\n",
    "# Compare the FDTD result w/ analytical result (refer Balanis pdf)\n",
    "\n"
   ]
  },
  {
   "cell_type": "markdown",
   "id": "c7968525",
   "metadata": {},
   "source": [
    "### *Result*"
   ]
  }
 ],
 "metadata": {
  "kernelspec": {
   "display_name": "mp",
   "language": "python",
   "name": "python3"
  },
  "language_info": {
   "codemirror_mode": {
    "name": "ipython",
    "version": 3
   },
   "file_extension": ".py",
   "mimetype": "text/x-python",
   "name": "python",
   "nbconvert_exporter": "python",
   "pygments_lexer": "ipython3",
   "version": "3.13.5"
  }
 },
 "nbformat": 4,
 "nbformat_minor": 5
}

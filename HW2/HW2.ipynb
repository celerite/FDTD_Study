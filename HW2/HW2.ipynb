{
 "cells": [
  {
   "cell_type": "markdown",
   "id": "f268d2a3",
   "metadata": {},
   "source": [
    "# **3-D FDTD (PEC Boundary)**"
   ]
  },
  {
   "cell_type": "markdown",
   "id": "ba640ca0",
   "metadata": {},
   "source": [
    "### *Code*"
   ]
  },
  {
   "cell_type": "code",
   "execution_count": null,
   "id": "b0dae402",
   "metadata": {},
   "outputs": [],
   "source": [
    "import meep as mp\n",
    "import numpy as np\n",
    "import matplotlib.pyplot as plt\n",
    "\n",
    "# Constants\n",
    "c = 3e+8    # speed of light (m/s)\n",
    "\n",
    "# FDTD Variables\n",
    "dx, dy, dz = 1e-3, 1e-3, 1e-3   # spatial step (m)\n",
    "C = 0.99    # Courant factor\n",
    "dt = C / (c * np.sqrt((1/dx)**2+(1/dy)**2+(1/dz)**2))   # time step (s)\n",
    "nx, ny, nz = 30, 40, 10     # number of nodes\n",
    "\n",
    "# Gaussian Source Coefficients\n",
    "E_0 = 1\n",
    "n_T = 3 # time delay\n",
    "bw = 15e+9   # bandwidth (Hz)\n",
    "T = np.sqrt(2 * np.log(2)) / (np.pi * bw)   # (s)\n",
    "\n",
    "# Run FDTD for 8192 time steps\n",
    "for n in range(1, 8193):\n",
    "    pulse = E_0 * np.exp(-(((n * dt - n_T * T) / T))**2)\n",
    "    # psuedo-code\n",
    "    # 1. Update E everywhere\n",
    "    # 2. Ez(3,3,3) = Ez(3,3,3) + pulse\n",
    "    # 3. Update H everywhere\n",
    "    # Save Ez(n) at time steps at the observation position (12, 3, 10)\n",
    "\n",
    "# Calculate the resonance frequencies using DFT (range: 5 - 30 GHz)\n",
    "\n",
    "# Compare the FDTD result w/ analytical result (refer Balanis pdf)\n",
    "\n"
   ]
  },
  {
   "cell_type": "markdown",
   "id": "c7968525",
   "metadata": {},
   "source": [
    "### *Result*"
   ]
  }
 ],
 "metadata": {
  "language_info": {
   "name": "python"
  }
 },
 "nbformat": 4,
 "nbformat_minor": 5
}
